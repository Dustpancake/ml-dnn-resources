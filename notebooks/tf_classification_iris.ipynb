{
 "cells": [
  {
   "cell_type": "markdown",
   "metadata": {},
   "source": [
    "# Iris classification\n",
    "Classification neural networks (NN) will often have as many output neurons as there are possible classes. The NN will return a confidence for each output as a normalized value from 0 to 1."
   ]
  },
  {
   "cell_type": "code",
   "execution_count": 1,
   "metadata": {},
   "outputs": [],
   "source": [
    "import pandas as pd\n",
    "import tensorflow as tf\n",
    "import numpy as np \n",
    "from sklearn import metrics"
   ]
  },
  {
   "cell_type": "markdown",
   "metadata": {},
   "source": [
    "### Fetching data\n",
    "We use pandas to read in a csv file over HTTP."
   ]
  },
  {
   "cell_type": "code",
   "execution_count": 9,
   "metadata": {},
   "outputs": [
    {
     "name": "stdout",
     "output_type": "stream",
     "text": [
      "(150, 5)\n"
     ]
    },
    {
     "data": {
      "text/html": [
       "<div>\n",
       "<style scoped>\n",
       "    .dataframe tbody tr th:only-of-type {\n",
       "        vertical-align: middle;\n",
       "    }\n",
       "\n",
       "    .dataframe tbody tr th {\n",
       "        vertical-align: top;\n",
       "    }\n",
       "\n",
       "    .dataframe thead th {\n",
       "        text-align: right;\n",
       "    }\n",
       "</style>\n",
       "<table border=\"1\" class=\"dataframe\">\n",
       "  <thead>\n",
       "    <tr style=\"text-align: right;\">\n",
       "      <th></th>\n",
       "      <th>sepal_l</th>\n",
       "      <th>sepal_w</th>\n",
       "      <th>petal_l</th>\n",
       "      <th>petal_w</th>\n",
       "      <th>species</th>\n",
       "    </tr>\n",
       "  </thead>\n",
       "  <tbody>\n",
       "    <tr>\n",
       "      <th>0</th>\n",
       "      <td>5.1</td>\n",
       "      <td>3.5</td>\n",
       "      <td>1.4</td>\n",
       "      <td>0.2</td>\n",
       "      <td>Iris-setosa</td>\n",
       "    </tr>\n",
       "    <tr>\n",
       "      <th>1</th>\n",
       "      <td>4.9</td>\n",
       "      <td>3.0</td>\n",
       "      <td>1.4</td>\n",
       "      <td>0.2</td>\n",
       "      <td>Iris-setosa</td>\n",
       "    </tr>\n",
       "    <tr>\n",
       "      <th>2</th>\n",
       "      <td>4.7</td>\n",
       "      <td>3.2</td>\n",
       "      <td>1.3</td>\n",
       "      <td>0.2</td>\n",
       "      <td>Iris-setosa</td>\n",
       "    </tr>\n",
       "    <tr>\n",
       "      <th>3</th>\n",
       "      <td>4.6</td>\n",
       "      <td>3.1</td>\n",
       "      <td>1.5</td>\n",
       "      <td>0.2</td>\n",
       "      <td>Iris-setosa</td>\n",
       "    </tr>\n",
       "    <tr>\n",
       "      <th>4</th>\n",
       "      <td>5.0</td>\n",
       "      <td>3.6</td>\n",
       "      <td>1.4</td>\n",
       "      <td>0.2</td>\n",
       "      <td>Iris-setosa</td>\n",
       "    </tr>\n",
       "  </tbody>\n",
       "</table>\n",
       "</div>"
      ],
      "text/plain": [
       "   sepal_l  sepal_w  petal_l  petal_w      species\n",
       "0      5.1      3.5      1.4      0.2  Iris-setosa\n",
       "1      4.9      3.0      1.4      0.2  Iris-setosa\n",
       "2      4.7      3.2      1.3      0.2  Iris-setosa\n",
       "3      4.6      3.1      1.5      0.2  Iris-setosa\n",
       "4      5.0      3.6      1.4      0.2  Iris-setosa"
      ]
     },
     "execution_count": 9,
     "metadata": {},
     "output_type": "execute_result"
    }
   ],
   "source": [
    "df = pd.read_csv(\n",
    "    \"https://data.heatonresearch.com/data/t81-558/iris.csv\", \n",
    "    na_values=['NA', '?']\n",
    ")\n",
    "print(df.shape)\n",
    "df[:5]"
   ]
  },
  {
   "cell_type": "markdown",
   "metadata": {},
   "source": [
    "Next we convert our data into something we can pass to the NN. We use pandas `get_dummies` to get dummies/indicators for our data set."
   ]
  },
  {
   "cell_type": "code",
   "execution_count": 26,
   "metadata": {},
   "outputs": [
    {
     "name": "stdout",
     "output_type": "stream",
     "text": [
      "(150, 3)\n"
     ]
    }
   ],
   "source": [
    "columns = ['sepal_l', 'sepal_w', 'petal_l', 'petal_w']\n",
    "x = df[columns].values\n",
    "\n",
    "dummies = pd.get_dummies(df['species'])\n",
    "y = dummies.values\n",
    "print(y.shape)"
   ]
  },
  {
   "cell_type": "code",
   "execution_count": 27,
   "metadata": {},
   "outputs": [
    {
     "data": {
      "text/html": [
       "<div>\n",
       "<style scoped>\n",
       "    .dataframe tbody tr th:only-of-type {\n",
       "        vertical-align: middle;\n",
       "    }\n",
       "\n",
       "    .dataframe tbody tr th {\n",
       "        vertical-align: top;\n",
       "    }\n",
       "\n",
       "    .dataframe thead th {\n",
       "        text-align: right;\n",
       "    }\n",
       "</style>\n",
       "<table border=\"1\" class=\"dataframe\">\n",
       "  <thead>\n",
       "    <tr style=\"text-align: right;\">\n",
       "      <th></th>\n",
       "      <th>Iris-setosa</th>\n",
       "      <th>Iris-versicolor</th>\n",
       "      <th>Iris-virginica</th>\n",
       "    </tr>\n",
       "  </thead>\n",
       "  <tbody>\n",
       "    <tr>\n",
       "      <th>0</th>\n",
       "      <td>1</td>\n",
       "      <td>0</td>\n",
       "      <td>0</td>\n",
       "    </tr>\n",
       "    <tr>\n",
       "      <th>1</th>\n",
       "      <td>1</td>\n",
       "      <td>0</td>\n",
       "      <td>0</td>\n",
       "    </tr>\n",
       "    <tr>\n",
       "      <th>2</th>\n",
       "      <td>1</td>\n",
       "      <td>0</td>\n",
       "      <td>0</td>\n",
       "    </tr>\n",
       "    <tr>\n",
       "      <th>3</th>\n",
       "      <td>1</td>\n",
       "      <td>0</td>\n",
       "      <td>0</td>\n",
       "    </tr>\n",
       "    <tr>\n",
       "      <th>4</th>\n",
       "      <td>1</td>\n",
       "      <td>0</td>\n",
       "      <td>0</td>\n",
       "    </tr>\n",
       "  </tbody>\n",
       "</table>\n",
       "</div>"
      ],
      "text/plain": [
       "   Iris-setosa  Iris-versicolor  Iris-virginica\n",
       "0            1                0               0\n",
       "1            1                0               0\n",
       "2            1                0               0\n",
       "3            1                0               0\n",
       "4            1                0               0"
      ]
     },
     "execution_count": 27,
     "metadata": {},
     "output_type": "execute_result"
    }
   ],
   "source": [
    "dummies[:5]"
   ]
  },
  {
   "cell_type": "markdown",
   "metadata": {},
   "source": [
    "### Building the NN\n",
    "For our classification NN, we will use a two layer [dense NN](https://heartbeat.fritz.ai/classification-with-tensorflow-and-dense-neural-networks-8299327a818a) with a 3 neuron output, using a [softmax](https://en.wikipedia.org/wiki/Softmax_function) activation. Softmax is also known as the *normalized exponential function* in the form\n",
    "$$\n",
    "\\sigma(\\vec{z})_i = \\frac{e^{z_i}}{\\sum^K_{j=1}e^z_j}, \\ \\ \\ \\  i \\in [1, K]\\ \\ \\text{and} \\ \\ \\vec{z} \\in \\textbf{R}^K\n",
    "$$\n",
    "This function normalizes the vector $\\vec{z}$ into a probability distribution of K probabilities, such that $\\sigma(\\vec{z})_i \\in [0, 1]$, and\n",
    "$$\n",
    "\\sum_{i=1}^K \\sigma(\\vec{z})_i = 1\n",
    "$$\n",
    "\n",
    "In physics, this is the [Boltzmann distribution](https://en.wikipedia.org/wiki/Boltzmann_distribution), with denominator being $Z$, the partition function, and the exponentials mapping to energy with a 'coldness' parameter $\\beta = -1 / kT$, such that\n",
    "$$\n",
    "e^{z_i} \\rightarrow e^{\\beta z_i}\n",
    "$$\n",
    "This $\\beta$ may also exist in NN, and denotes the base.\n",
    "\n",
    "We choose softmax for the output layer activation, as it normalizes our output for us implicitly.\n",
    "\n",
    "*Note*: 'dense' in this context is used to descibe that each neuron is fully connected to the next layer."
   ]
  },
  {
   "cell_type": "code",
   "execution_count": 28,
   "metadata": {},
   "outputs": [],
   "source": [
    "model = tf.keras.models.Sequential()\n",
    "\n",
    "model.add( # hidden 1\n",
    "    tf.keras.layers.Dense(\n",
    "        50,\n",
    "        input_dim=x.shape[1],\n",
    "        activation='relu'\n",
    "    )\n",
    ")\n",
    "model.add( # hidden 2\n",
    "    tf.keras.layers.Dense(\n",
    "        25,\n",
    "        activation='relu'\n",
    "    )\n",
    ")\n",
    "model.add( # output\n",
    "    tf.keras.layers.Dense(\n",
    "        y.shape[1],\n",
    "        activation='softmax'\n",
    "    )\n",
    ")"
   ]
  },
  {
   "cell_type": "markdown",
   "metadata": {},
   "source": [
    "We use [catagorical cross-entropy](https://en.wikipedia.org/wiki/Cross_entropy) as the loss function, for discrete probability distributions\n",
    "$$\n",
    "H(p, q) = - \\sum_{x \\in \\chi} p(x) \\log q(x)\n",
    "$$\n",
    "giving the entropy of distribution $q$ relative to distribution $p$ for a given set (in this case, support $\\chi$ is the discrete count of elements in the vectors). The distributions are modelled with logistics functions\n",
    "$$\n",
    "\\frac{1}{1 + e^{-z}}\n",
    "$$\n",
    "where $p$ is the true probability, and $q$ is the predicted probability.\n",
    "\n",
    "We use this loss function, as we may need to take into account the dimensionality of the output; it is well suited for classification, since the true probability will often be a one-hot vector, thus selects how well the models prediction is (discussed a little [here](https://peltarion.com/knowledge-center/documentation/modeling-view/build-an-ai-model/loss-functions/categorical-crossentropy))."
   ]
  },
  {
   "cell_type": "code",
   "execution_count": 29,
   "metadata": {},
   "outputs": [
    {
     "data": {
      "text/plain": [
       "<tensorflow.python.keras.callbacks.History at 0x150318ac0>"
      ]
     },
     "execution_count": 29,
     "metadata": {},
     "output_type": "execute_result"
    }
   ],
   "source": [
    "model.compile(loss='categorical_crossentropy', optimizer='adam')\n",
    "model.fit(x,y,verbose=0,epochs=100)"
   ]
  },
  {
   "cell_type": "markdown",
   "metadata": {},
   "source": [
    "### Results\n",
    "We consider the column with the highest probability to be the 'prediction' of the neural network:"
   ]
  },
  {
   "cell_type": "code",
   "execution_count": 36,
   "metadata": {},
   "outputs": [
    {
     "name": "stdout",
     "output_type": "stream",
     "text": [
      "[9.9815530e-01 1.8442589e-03 4.2634110e-07] -> [1 0 0]\n"
     ]
    }
   ],
   "source": [
    "# extract species names from raw data \n",
    "species = dummies.columns\n",
    "\n",
    "predictions = model.predict(x)\n",
    "# cast to int for rounding\n",
    "pred_as_int = np.around(predictions).astype(np.uint8)\n",
    "print(f\"{predictions[0]} -> {pred_as_int[0]}\")"
   ]
  },
  {
   "cell_type": "markdown",
   "metadata": {},
   "source": [
    "We can decode our predictions by selecting the maximal column."
   ]
  },
  {
   "cell_type": "code",
   "execution_count": 39,
   "metadata": {},
   "outputs": [
    {
     "name": "stdout",
     "output_type": "stream",
     "text": [
      "--- index 127 -------\n",
      "Prediction:\tIris-virginica\n",
      "Expected:\tIris-virginica\n",
      "\n",
      "--- index 70 -------\n",
      "Prediction:\tIris-versicolor\n",
      "Expected:\tIris-versicolor\n",
      "\n",
      "--- index 67 -------\n",
      "Prediction:\tIris-versicolor\n",
      "Expected:\tIris-versicolor\n",
      "\n",
      "--- index 35 -------\n",
      "Prediction:\tIris-setosa\n",
      "Expected:\tIris-setosa\n",
      "\n",
      "--- index 13 -------\n",
      "Prediction:\tIris-setosa\n",
      "Expected:\tIris-setosa\n",
      "\n"
     ]
    }
   ],
   "source": [
    "pred_classes = np.argmax(predictions, axis=1)\n",
    "expd_classes = np.argmax(y, axis=1)\n",
    "\n",
    "# get 10 random examples\n",
    "for i in np.random.randint(0, len(pred_classes), 5):\n",
    "    print(f\"--- index {i} -------\")\n",
    "    print(f\"Prediction:\\t{species[pred_classes[i]]}\")\n",
    "    print(f\"Expected:\\t{species[expd_classes[i]]}\\n\")"
   ]
  },
  {
   "cell_type": "markdown",
   "metadata": {},
   "source": [
    "We can evaluate the accuracy of our model with an [accuracy score](https://scikit-learn.org/stable/modules/generated/sklearn.metrics.accuracy_score.html), which is the fraction of correct predictions:"
   ]
  },
  {
   "cell_type": "code",
   "execution_count": 41,
   "metadata": {},
   "outputs": [
    {
     "name": "stdout",
     "output_type": "stream",
     "text": [
      "Accuracy = 0.98\n"
     ]
    }
   ],
   "source": [
    "accuracy = metrics.accuracy_score(\n",
    "    expd_classes,\n",
    "    pred_classes\n",
    ")\n",
    "print(\"Accuracy = {}\".format(accuracy))"
   ]
  }
 ],
 "metadata": {
  "kernelspec": {
   "display_name": "Python 3",
   "language": "python",
   "name": "python3"
  },
  "language_info": {
   "codemirror_mode": {
    "name": "ipython",
    "version": 3
   },
   "file_extension": ".py",
   "mimetype": "text/x-python",
   "name": "python",
   "nbconvert_exporter": "python",
   "pygments_lexer": "ipython3",
   "version": "3.8.5"
  }
 },
 "nbformat": 4,
 "nbformat_minor": 4
}
