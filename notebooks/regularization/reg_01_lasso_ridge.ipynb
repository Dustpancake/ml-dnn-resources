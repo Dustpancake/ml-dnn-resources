{
 "cells": [
  {
   "cell_type": "markdown",
   "metadata": {},
   "source": [
    "# Regularization\n",
    "Regularization reduces overfitting by lowering the complexity of the neural network. There are many different techniques and algorithms for regularization, some of which we will explore here."
   ]
  },
  {
   "cell_type": "markdown",
   "metadata": {},
   "source": [
    "## L1 / L2 regularization\n",
    "L1 and L2 regularization crop up in minimum entropy methods in physics. L1 is also known as *Least Absolute Shrinkage and Selection Operator* (Lasso), and L2 is commonly called *Ridge Regression*. [Terence Parr](https://explained.ai/regularization/L1vsL2.html) provides a good and in-depth comparison of the methods.\n",
    "\n",
    "Both algorithms function by adding a penalty to a regularizer: consider the Lagrangian (cost/error function)\n",
    "$$\n",
    "\\tilde{\\mathcal{L}} \\left( W^l \\right) = \\mathcal{L} \\left( W^l \\right) + \\alpha R \\left( W^l \\right),\n",
    "$$\n",
    "as a function of weights, where $\\tilde{\\mathcal{L}} \\left( W^l \\right)$ is the regularized Lagrangian, $R \\left( W^l \\right)$ is the regularizer term, and $\\alpha$ the Lagrange multiplier (essentially a hyper-parameter).\n",
    "\n",
    "For L1, we take the [L1 norm](https://en.wikipedia.org/wiki/Norm_(mathematics)#Euclidean_norm) of the weights for $R \\left( W^l \\right)$, whereas in L2 we use the L2 norm.\n",
    "\n",
    "The weights are then backpropagated\n",
    "$$\n",
    "\\nabla_{W^l} \\tilde{\\mathcal{L}} \\left( W^l \\right) = \\nabla_{W^l} \\left[ \\mathcal{L} \\left( W^l \\right) + \\alpha R \\left( W^l \\right) \\right]\n",
    "$$\n",
    "accordingly.\n",
    "\n",
    "We will discuss the differences between the methods in more detail in a moment: let us illustrate them first by example."
   ]
  },
  {
   "cell_type": "markdown",
   "metadata": {},
   "source": [
    "## Regularization Illustration\n",
    "We will use the miles-per-gallon data set, and `sklearn` for regularization."
   ]
  },
  {
   "cell_type": "code",
   "execution_count": 1,
   "metadata": {},
   "outputs": [
    {
     "data": {
      "text/html": [
       "<div>\n",
       "<style scoped>\n",
       "    .dataframe tbody tr th:only-of-type {\n",
       "        vertical-align: middle;\n",
       "    }\n",
       "\n",
       "    .dataframe tbody tr th {\n",
       "        vertical-align: top;\n",
       "    }\n",
       "\n",
       "    .dataframe thead th {\n",
       "        text-align: right;\n",
       "    }\n",
       "</style>\n",
       "<table border=\"1\" class=\"dataframe\">\n",
       "  <thead>\n",
       "    <tr style=\"text-align: right;\">\n",
       "      <th></th>\n",
       "      <th>mpg</th>\n",
       "      <th>cylinders</th>\n",
       "      <th>displacement</th>\n",
       "      <th>horsepower</th>\n",
       "      <th>weight</th>\n",
       "      <th>acceleration</th>\n",
       "      <th>year</th>\n",
       "      <th>origin</th>\n",
       "      <th>name</th>\n",
       "    </tr>\n",
       "  </thead>\n",
       "  <tbody>\n",
       "    <tr>\n",
       "      <th>0</th>\n",
       "      <td>18.0</td>\n",
       "      <td>8</td>\n",
       "      <td>307.0</td>\n",
       "      <td>130.0</td>\n",
       "      <td>3504</td>\n",
       "      <td>12.0</td>\n",
       "      <td>70</td>\n",
       "      <td>1</td>\n",
       "      <td>chevrolet chevelle malibu</td>\n",
       "    </tr>\n",
       "    <tr>\n",
       "      <th>1</th>\n",
       "      <td>15.0</td>\n",
       "      <td>8</td>\n",
       "      <td>350.0</td>\n",
       "      <td>165.0</td>\n",
       "      <td>3693</td>\n",
       "      <td>11.5</td>\n",
       "      <td>70</td>\n",
       "      <td>1</td>\n",
       "      <td>buick skylark 320</td>\n",
       "    </tr>\n",
       "    <tr>\n",
       "      <th>2</th>\n",
       "      <td>18.0</td>\n",
       "      <td>8</td>\n",
       "      <td>318.0</td>\n",
       "      <td>150.0</td>\n",
       "      <td>3436</td>\n",
       "      <td>11.0</td>\n",
       "      <td>70</td>\n",
       "      <td>1</td>\n",
       "      <td>plymouth satellite</td>\n",
       "    </tr>\n",
       "    <tr>\n",
       "      <th>3</th>\n",
       "      <td>16.0</td>\n",
       "      <td>8</td>\n",
       "      <td>304.0</td>\n",
       "      <td>150.0</td>\n",
       "      <td>3433</td>\n",
       "      <td>12.0</td>\n",
       "      <td>70</td>\n",
       "      <td>1</td>\n",
       "      <td>amc rebel sst</td>\n",
       "    </tr>\n",
       "    <tr>\n",
       "      <th>4</th>\n",
       "      <td>17.0</td>\n",
       "      <td>8</td>\n",
       "      <td>302.0</td>\n",
       "      <td>140.0</td>\n",
       "      <td>3449</td>\n",
       "      <td>10.5</td>\n",
       "      <td>70</td>\n",
       "      <td>1</td>\n",
       "      <td>ford torino</td>\n",
       "    </tr>\n",
       "    <tr>\n",
       "      <th>...</th>\n",
       "      <td>...</td>\n",
       "      <td>...</td>\n",
       "      <td>...</td>\n",
       "      <td>...</td>\n",
       "      <td>...</td>\n",
       "      <td>...</td>\n",
       "      <td>...</td>\n",
       "      <td>...</td>\n",
       "      <td>...</td>\n",
       "    </tr>\n",
       "    <tr>\n",
       "      <th>393</th>\n",
       "      <td>27.0</td>\n",
       "      <td>4</td>\n",
       "      <td>140.0</td>\n",
       "      <td>86.0</td>\n",
       "      <td>2790</td>\n",
       "      <td>15.6</td>\n",
       "      <td>82</td>\n",
       "      <td>1</td>\n",
       "      <td>ford mustang gl</td>\n",
       "    </tr>\n",
       "    <tr>\n",
       "      <th>394</th>\n",
       "      <td>44.0</td>\n",
       "      <td>4</td>\n",
       "      <td>97.0</td>\n",
       "      <td>52.0</td>\n",
       "      <td>2130</td>\n",
       "      <td>24.6</td>\n",
       "      <td>82</td>\n",
       "      <td>2</td>\n",
       "      <td>vw pickup</td>\n",
       "    </tr>\n",
       "    <tr>\n",
       "      <th>395</th>\n",
       "      <td>32.0</td>\n",
       "      <td>4</td>\n",
       "      <td>135.0</td>\n",
       "      <td>84.0</td>\n",
       "      <td>2295</td>\n",
       "      <td>11.6</td>\n",
       "      <td>82</td>\n",
       "      <td>1</td>\n",
       "      <td>dodge rampage</td>\n",
       "    </tr>\n",
       "    <tr>\n",
       "      <th>396</th>\n",
       "      <td>28.0</td>\n",
       "      <td>4</td>\n",
       "      <td>120.0</td>\n",
       "      <td>79.0</td>\n",
       "      <td>2625</td>\n",
       "      <td>18.6</td>\n",
       "      <td>82</td>\n",
       "      <td>1</td>\n",
       "      <td>ford ranger</td>\n",
       "    </tr>\n",
       "    <tr>\n",
       "      <th>397</th>\n",
       "      <td>31.0</td>\n",
       "      <td>4</td>\n",
       "      <td>119.0</td>\n",
       "      <td>82.0</td>\n",
       "      <td>2720</td>\n",
       "      <td>19.4</td>\n",
       "      <td>82</td>\n",
       "      <td>1</td>\n",
       "      <td>chevy s-10</td>\n",
       "    </tr>\n",
       "  </tbody>\n",
       "</table>\n",
       "<p>398 rows × 9 columns</p>\n",
       "</div>"
      ],
      "text/plain": [
       "      mpg  cylinders  displacement  horsepower  weight  acceleration  year  \\\n",
       "0    18.0          8         307.0       130.0    3504          12.0    70   \n",
       "1    15.0          8         350.0       165.0    3693          11.5    70   \n",
       "2    18.0          8         318.0       150.0    3436          11.0    70   \n",
       "3    16.0          8         304.0       150.0    3433          12.0    70   \n",
       "4    17.0          8         302.0       140.0    3449          10.5    70   \n",
       "..    ...        ...           ...         ...     ...           ...   ...   \n",
       "393  27.0          4         140.0        86.0    2790          15.6    82   \n",
       "394  44.0          4          97.0        52.0    2130          24.6    82   \n",
       "395  32.0          4         135.0        84.0    2295          11.6    82   \n",
       "396  28.0          4         120.0        79.0    2625          18.6    82   \n",
       "397  31.0          4         119.0        82.0    2720          19.4    82   \n",
       "\n",
       "     origin                       name  \n",
       "0         1  chevrolet chevelle malibu  \n",
       "1         1          buick skylark 320  \n",
       "2         1         plymouth satellite  \n",
       "3         1              amc rebel sst  \n",
       "4         1                ford torino  \n",
       "..      ...                        ...  \n",
       "393       1            ford mustang gl  \n",
       "394       2                  vw pickup  \n",
       "395       1              dodge rampage  \n",
       "396       1                ford ranger  \n",
       "397       1                 chevy s-10  \n",
       "\n",
       "[398 rows x 9 columns]"
      ]
     },
     "execution_count": 1,
     "metadata": {},
     "output_type": "execute_result"
    }
   ],
   "source": [
    "import pandas as pd\n",
    "\n",
    "df = pd.read_csv(\n",
    "    \"https://data.heatonresearch.com/data/t81-558/auto-mpg.csv\",\n",
    "    na_values=['NA', '?']\n",
    ")\n",
    "df"
   ]
  },
  {
   "cell_type": "markdown",
   "metadata": {},
   "source": [
    "We quickly handle the missing values and construct vectors:"
   ]
  },
  {
   "cell_type": "code",
   "execution_count": 2,
   "metadata": {},
   "outputs": [],
   "source": [
    "from sklearn.model_selection import train_test_split\n",
    "\n",
    "df['horsepower'] = df['horsepower'].fillna(\n",
    "    df['horsepower'].median()\n",
    ")\n",
    "\n",
    "x_cols = list(df.columns.drop('mpg').drop('name'))\n",
    "\n",
    "x = df[x_cols].values\n",
    "y = df['mpg'].values\n",
    "\n",
    "x_train, x_test, y_train, y_test = train_test_split(\n",
    "    x, y,\n",
    "    test_size=0.25, \n",
    "    random_state=414141\n",
    ")"
   ]
  },
  {
   "cell_type": "markdown",
   "metadata": {},
   "source": [
    "And we define a helper function for evaluating coefficients of regression:"
   ]
  },
  {
   "cell_type": "code",
   "execution_count": 3,
   "metadata": {},
   "outputs": [],
   "source": [
    "%matplotlib inline\n",
    "import IPython.display\n",
    "\n",
    "def report_coef(names, coef, intercept):\n",
    "    r = pd.DataFrame(\n",
    "        {'coef': coef, 'positive': coef >= 0},\n",
    "        index=names\n",
    "    )\n",
    "    r = r.sort_values(by=['coef'])\n",
    "    \n",
    "    # pretty print\n",
    "    IPython.display.display(r)\n",
    "    print(f\"Intercept = {intercept}\")\n",
    "    \n",
    "    r['coef'].plot(\n",
    "        kind='barh',\n",
    "        color=r['positive'].map(\n",
    "            {True: 'b', False: 'r'}\n",
    "        )\n",
    "    )"
   ]
  },
  {
   "cell_type": "markdown",
   "metadata": {},
   "source": [
    "### Linear regression\n",
    "L1 and L2 regularization first introduced for [linear regression](https://en.wikipedia.org/wiki/Linear_regression) algorithms: we use a `sklearn` linear regression class to solve the constrained problem:"
   ]
  },
  {
   "cell_type": "code",
   "execution_count": 4,
   "metadata": {},
   "outputs": [
    {
     "name": "stdout",
     "output_type": "stream",
     "text": [
      "Score (RMSE) = 2.986045960294155\n"
     ]
    },
    {
     "data": {
      "text/html": [
       "<div>\n",
       "<style scoped>\n",
       "    .dataframe tbody tr th:only-of-type {\n",
       "        vertical-align: middle;\n",
       "    }\n",
       "\n",
       "    .dataframe tbody tr th {\n",
       "        vertical-align: top;\n",
       "    }\n",
       "\n",
       "    .dataframe thead th {\n",
       "        text-align: right;\n",
       "    }\n",
       "</style>\n",
       "<table border=\"1\" class=\"dataframe\">\n",
       "  <thead>\n",
       "    <tr style=\"text-align: right;\">\n",
       "      <th></th>\n",
       "      <th>coef</th>\n",
       "      <th>positive</th>\n",
       "    </tr>\n",
       "  </thead>\n",
       "  <tbody>\n",
       "    <tr>\n",
       "      <th>cylinders</th>\n",
       "      <td>-0.089544</td>\n",
       "      <td>False</td>\n",
       "    </tr>\n",
       "    <tr>\n",
       "      <th>horsepower</th>\n",
       "      <td>-0.008501</td>\n",
       "      <td>False</td>\n",
       "    </tr>\n",
       "    <tr>\n",
       "      <th>weight</th>\n",
       "      <td>-0.007060</td>\n",
       "      <td>False</td>\n",
       "    </tr>\n",
       "    <tr>\n",
       "      <th>displacement</th>\n",
       "      <td>0.017831</td>\n",
       "      <td>True</td>\n",
       "    </tr>\n",
       "    <tr>\n",
       "      <th>acceleration</th>\n",
       "      <td>0.227142</td>\n",
       "      <td>True</td>\n",
       "    </tr>\n",
       "    <tr>\n",
       "      <th>year</th>\n",
       "      <td>0.789679</td>\n",
       "      <td>True</td>\n",
       "    </tr>\n",
       "    <tr>\n",
       "      <th>origin</th>\n",
       "      <td>1.494226</td>\n",
       "      <td>True</td>\n",
       "    </tr>\n",
       "  </tbody>\n",
       "</table>\n",
       "</div>"
      ],
      "text/plain": [
       "                  coef  positive\n",
       "cylinders    -0.089544     False\n",
       "horsepower   -0.008501     False\n",
       "weight       -0.007060     False\n",
       "displacement  0.017831      True\n",
       "acceleration  0.227142      True\n",
       "year          0.789679      True\n",
       "origin        1.494226      True"
      ]
     },
     "metadata": {},
     "output_type": "display_data"
    },
    {
     "name": "stdout",
     "output_type": "stream",
     "text": [
      "Intercept = -23.43290145870238\n"
     ]
    },
    {
     "data": {
      "image/png": "[encoded data removed]",
      "text/plain": [
       "<Figure size 432x288 with 1 Axes>"
      ]
     },
     "metadata": {
      "needs_background": "light"
     },
     "output_type": "display_data"
    }
   ],
   "source": [
    "from sklearn import linear_model\n",
    "import sklearn\n",
    "import numpy as np\n",
    "\n",
    "regressor = linear_model.LinearRegression()\n",
    "\n",
    "regressor.fit(x_train, y_train)\n",
    "\n",
    "reg_pred = regressor.predict(x_test)\n",
    "\n",
    "score = np.sqrt(sklearn.metrics.mean_squared_error(\n",
    "    reg_pred,\n",
    "    y_test\n",
    "))\n",
    "print(f\"Score (RMSE) = {score}\")\n",
    "\n",
    "report_coef(\n",
    "    x_cols,\n",
    "    regressor.coef_,\n",
    "    regressor.intercept_\n",
    ")"
   ]
  },
  {
   "cell_type": "markdown",
   "metadata": {},
   "source": [
    "### L1: Lasso regularizer\n",
    "L1 applies the regularizer term\n",
    "$$\n",
    "R \\left( w^t_{ij} \\right) = \\sum_i\\sum_j \\left\\vert w^t_{ij} \\right\\vert,\n",
    "$$\n",
    "which can be visualized as a diamond with corners on the axes over the origin of the $x,y$ plane. It's use consequently is to create sparsity in the network, and will favour pulling weights close to zero, such that it is essentially 'dropped' from the network.\n",
    "\n",
    "Fig 1: Symmetric loss of L1: green points represent random loss functions with resulting regularized coefficients being zero, and blue represents no coefficient being zero. Image taken from [Terence Parr](https://explained.ai/regularization/L1vsL2.html).\n",
    "<img src=\"https://explained.ai/regularization/images/l1-symmetric-cloud.png\" alt=\"L1\" width=\"400\"/>\n",
    "\n",
    "*Feature selection* is a byproduct of sparse neural networks; *features* are the values that the training set provides to the inputs. If a weight on a neuron reaches zero, the network considers this feature to be redundant in predicting the outcome. Consequently, L1 can be used to help a NN drop unecessary features.\n",
    "\n",
    "We can implement this as such for linear regression:"
   ]
  },
  {
   "cell_type": "code",
   "execution_count": 5,
   "metadata": {},
   "outputs": [
    {
     "name": "stdout",
     "output_type": "stream",
     "text": [
      "Score (RMSE) = 2.986045960294155\n"
     ]
    },
    {
     "data": {
      "text/html": [
       "<div>\n",
       "<style scoped>\n",
       "    .dataframe tbody tr th:only-of-type {\n",
       "        vertical-align: middle;\n",
       "    }\n",
       "\n",
       "    .dataframe tbody tr th {\n",
       "        vertical-align: top;\n",
       "    }\n",
       "\n",
       "    .dataframe thead th {\n",
       "        text-align: right;\n",
       "    }\n",
       "</style>\n",
       "<table border=\"1\" class=\"dataframe\">\n",
       "  <thead>\n",
       "    <tr style=\"text-align: right;\">\n",
       "      <th></th>\n",
       "      <th>coef</th>\n",
       "      <th>positive</th>\n",
       "    </tr>\n",
       "  </thead>\n",
       "  <tbody>\n",
       "    <tr>\n",
       "      <th>horsepower</th>\n",
       "      <td>-0.007625</td>\n",
       "      <td>False</td>\n",
       "    </tr>\n",
       "    <tr>\n",
       "      <th>weight</th>\n",
       "      <td>-0.007026</td>\n",
       "      <td>False</td>\n",
       "    </tr>\n",
       "    <tr>\n",
       "      <th>cylinders</th>\n",
       "      <td>-0.000000</td>\n",
       "      <td>True</td>\n",
       "    </tr>\n",
       "    <tr>\n",
       "      <th>displacement</th>\n",
       "      <td>0.013997</td>\n",
       "      <td>True</td>\n",
       "    </tr>\n",
       "    <tr>\n",
       "      <th>acceleration</th>\n",
       "      <td>0.195914</td>\n",
       "      <td>True</td>\n",
       "    </tr>\n",
       "    <tr>\n",
       "      <th>year</th>\n",
       "      <td>0.781452</td>\n",
       "      <td>True</td>\n",
       "    </tr>\n",
       "    <tr>\n",
       "      <th>origin</th>\n",
       "      <td>1.209219</td>\n",
       "      <td>True</td>\n",
       "    </tr>\n",
       "  </tbody>\n",
       "</table>\n",
       "</div>"
      ],
      "text/plain": [
       "                  coef  positive\n",
       "horsepower   -0.007625     False\n",
       "weight       -0.007026     False\n",
       "cylinders    -0.000000      True\n",
       "displacement  0.013997      True\n",
       "acceleration  0.195914      True\n",
       "year          0.781452      True\n",
       "origin        1.209219      True"
      ]
     },
     "metadata": {},
     "output_type": "display_data"
    },
    {
     "name": "stdout",
     "output_type": "stream",
     "text": [
      "Intercept = -21.805924107937667\n"
     ]
    },
    {
     "data": {
      "image/png": "[encoded data removed]",
      "text/plain": [
       "<Figure size 432x288 with 1 Axes>"
      ]
     },
     "metadata": {
      "needs_background": "light"
     },
     "output_type": "display_data"
    }
   ],
   "source": [
    "l1_regressor = linear_model.Lasso(\n",
    "    random_state=414141,\n",
    "    alpha=0.1\n",
    ")\n",
    "\n",
    "l1_regressor.fit(x_train, y_train)\n",
    "\n",
    "l1_pred = regressor.predict(x_test)\n",
    "\n",
    "score = np.sqrt(sklearn.metrics.mean_squared_error(\n",
    "    l1_pred,\n",
    "    y_test\n",
    "))\n",
    "print(f\"Score (RMSE) = {score}\")\n",
    "\n",
    "report_coef(\n",
    "    x_cols,\n",
    "    l1_regressor.coef_,\n",
    "    l1_regressor.intercept_\n",
    ")"
   ]
  },
  {
   "cell_type": "markdown",
   "metadata": {},
   "source": [
    "This regression algorithm determined that the number of cylinders is an unimportant feature."
   ]
  },
  {
   "cell_type": "markdown",
   "metadata": {},
   "source": [
    "#### Hyper parameter\n",
    "Let's examine how the model score changes as we adjust the Lagrange multiplier $\\alpha$. We will train an L1 model on our data, and compute the [cross validation](https://scikit-learn.org/stable/modules/cross_validation.html), which is a folded train-test model seperating the data set into $k$ folds, training on $k-1$, and testing on the remaining to better estimate how the model generalises. The `sklearn` implementation calculates MSE and averages them over the $k$ folds, such that the returned value is a confidence measure -- a value close to 1 is desired."
   ]
  },
  {
   "cell_type": "code",
   "execution_count": 6,
   "metadata": {},
   "outputs": [],
   "source": [
    "import sklearn.model_selection\n",
    "\n",
    "lasso = linear_model.Lasso(random_state=414141)\n",
    "alphas = np.logspace(-8, 8, 100) # Lagrange multipliers\n",
    "\n",
    "scores = []\n",
    "scores_std = []\n",
    "\n",
    "n_folds = 3\n",
    "\n",
    "for alpha in alphas:\n",
    "    lasso.alpha = alpha\n",
    "    \n",
    "    t_scores = sklearn.model_selection.cross_val_score(\n",
    "        lasso, \n",
    "        x, \n",
    "        y, \n",
    "        cv=n_folds,\n",
    "        n_jobs=1\n",
    "    )\n",
    "    scores.append(np.mean(t_scores))\n",
    "    scores_std.append(np.std(t_scores))\n",
    "    \n",
    "scores, scores_std = np.array(scores), np.array(scores_std)"
   ]
  },
  {
   "cell_type": "markdown",
   "metadata": {},
   "source": [
    "Next we visualise this data:"
   ]
  },
  {
   "cell_type": "code",
   "execution_count": 7,
   "metadata": {},
   "outputs": [
    {
     "data": {
      "text/plain": [
       "(1e-08, 100000000.0)"
      ]
     },
     "execution_count": 7,
     "metadata": {},
     "output_type": "execute_result"
    },
    {
     "data": {
      "image/png": "[encoded data removed]",
      "text/plain": [
       "<Figure size 432x288 with 1 Axes>"
      ]
     },
     "metadata": {
      "needs_background": "light"
     },
     "output_type": "display_data"
    }
   ],
   "source": [
    "import matplotlib.pyplot as plt\n",
    "fig = plt.figure()\n",
    "\n",
    "# log plot on x axis\n",
    "plt.semilogx(alphas, scores)\n",
    "\n",
    "std_err = scores_std / np.sqrt(n_folds)\n",
    "\n",
    "plt.semilogx(alphas, scores + std_err, 'b--')\n",
    "plt.semilogx(alphas, scores - std_err, 'b--')\n",
    "\n",
    "# fill error margins\n",
    "plt.fill_between(\n",
    "    alphas, \n",
    "    scores + std_err, \n",
    "    scores - std_err,\n",
    "    alpha= 0.2\n",
    ")\n",
    "\n",
    "plt.ylabel(r\"CV MSE score $\\pm$ std_err\")\n",
    "plt.xlabel(r'$\\alpha$')\n",
    "plt.xlim([alphas[0], alphas[-1]])"
   ]
  },
  {
   "cell_type": "markdown",
   "metadata": {},
   "source": [
    "### L2: Ridge regularization\n",
    "L2, or *ridge* regularization, sets the regularizer term to\n",
    "$$\n",
    "R\\left( w^l_{ij} \\right) = \\sum_i\\sum_j \\left\\vert\\left\\vert w^t_{ij} \\right\\vert\\right\\vert^2,\n",
    "$$\n",
    "and can be pictures as a circlular attractor.\n",
    "\n",
    "Fig 2: Symmetric loss of L2: same colour coding as above, except orange represents points where a single parameter was 0. Image taken from [Terence Parr](https://explained.ai/regularization/L1vsL2.html).\n",
    "<img src=\"https://explained.ai/regularization/images/l2-symmetric-cloud.png\" alt=\"L1\" width=\"400\"/>\n",
    "\n",
    "L2 is used when low weight values are desired, reducing the chance of model overfitting. Generally, L2 produces better results than L1, however is not as efficient at feature removal.\n",
    "\n",
    "We can implement an example with `sklearn`:"
   ]
  },
  {
   "cell_type": "code",
   "execution_count": 8,
   "metadata": {
    "scrolled": false
   },
   "outputs": [
    {
     "name": "stdout",
     "output_type": "stream",
     "text": [
      "Score (RMSE) = 2.9859948742479214\n"
     ]
    },
    {
     "data": {
      "text/html": [
       "<div>\n",
       "<style scoped>\n",
       "    .dataframe tbody tr th:only-of-type {\n",
       "        vertical-align: middle;\n",
       "    }\n",
       "\n",
       "    .dataframe tbody tr th {\n",
       "        vertical-align: top;\n",
       "    }\n",
       "\n",
       "    .dataframe thead th {\n",
       "        text-align: right;\n",
       "    }\n",
       "</style>\n",
       "<table border=\"1\" class=\"dataframe\">\n",
       "  <thead>\n",
       "    <tr style=\"text-align: right;\">\n",
       "      <th></th>\n",
       "      <th>coef</th>\n",
       "      <th>positive</th>\n",
       "    </tr>\n",
       "  </thead>\n",
       "  <tbody>\n",
       "    <tr>\n",
       "      <th>cylinders</th>\n",
       "      <td>-0.089277</td>\n",
       "      <td>False</td>\n",
       "    </tr>\n",
       "    <tr>\n",
       "      <th>horsepower</th>\n",
       "      <td>-0.008487</td>\n",
       "      <td>False</td>\n",
       "    </tr>\n",
       "    <tr>\n",
       "      <th>weight</th>\n",
       "      <td>-0.007061</td>\n",
       "      <td>False</td>\n",
       "    </tr>\n",
       "    <tr>\n",
       "      <th>displacement</th>\n",
       "      <td>0.017817</td>\n",
       "      <td>True</td>\n",
       "    </tr>\n",
       "    <tr>\n",
       "      <th>acceleration</th>\n",
       "      <td>0.227122</td>\n",
       "      <td>True</td>\n",
       "    </tr>\n",
       "    <tr>\n",
       "      <th>year</th>\n",
       "      <td>0.789661</td>\n",
       "      <td>True</td>\n",
       "    </tr>\n",
       "    <tr>\n",
       "      <th>origin</th>\n",
       "      <td>1.492834</td>\n",
       "      <td>True</td>\n",
       "    </tr>\n",
       "  </tbody>\n",
       "</table>\n",
       "</div>"
      ],
      "text/plain": [
       "                  coef  positive\n",
       "cylinders    -0.089277     False\n",
       "horsepower   -0.008487     False\n",
       "weight       -0.007061     False\n",
       "displacement  0.017817      True\n",
       "acceleration  0.227122      True\n",
       "year          0.789661      True\n",
       "origin        1.492834      True"
      ]
     },
     "metadata": {},
     "output_type": "display_data"
    },
    {
     "name": "stdout",
     "output_type": "stream",
     "text": [
      "Intercept = -23.428556602124967\n"
     ]
    },
    {
     "data": {
      "image/png": "[encoded data removed]",
      "text/plain": [
       "<Figure size 432x288 with 1 Axes>"
      ]
     },
     "metadata": {
      "needs_background": "light"
     },
     "output_type": "display_data"
    }
   ],
   "source": [
    "l2_regressor = linear_model.Ridge(\n",
    "    alpha=0.1\n",
    ")\n",
    "\n",
    "l2_regressor.fit(\n",
    "    x_train,\n",
    "    y_train\n",
    ")\n",
    "\n",
    "l2_pred = l2_regressor.predict(x_test)\n",
    "\n",
    "score = np.sqrt(sklearn.metrics.mean_squared_error(\n",
    "    l2_pred,\n",
    "    y_test\n",
    "))\n",
    "print(f\"Score (RMSE) = {score}\")\n",
    "\n",
    "report_coef(\n",
    "    x_cols,\n",
    "    l2_regressor.coef_,\n",
    "    l2_regressor.intercept_\n",
    ")"
   ]
  },
  {
   "cell_type": "markdown",
   "metadata": {},
   "source": [
    "### ElasticNet\n",
    "As a final example, let us consider both L1 and L2 regularizations applied -- this is known as ElasticNet, and applies a Lagrange multiplier for each term:"
   ]
  },
  {
   "cell_type": "code",
   "execution_count": 9,
   "metadata": {},
   "outputs": [
    {
     "name": "stdout",
     "output_type": "stream",
     "text": [
      "Score (RMSE) = 2.980003613254606\n"
     ]
    },
    {
     "data": {
      "text/html": [
       "<div>\n",
       "<style scoped>\n",
       "    .dataframe tbody tr th:only-of-type {\n",
       "        vertical-align: middle;\n",
       "    }\n",
       "\n",
       "    .dataframe tbody tr th {\n",
       "        vertical-align: top;\n",
       "    }\n",
       "\n",
       "    .dataframe thead th {\n",
       "        text-align: right;\n",
       "    }\n",
       "</style>\n",
       "<table border=\"1\" class=\"dataframe\">\n",
       "  <thead>\n",
       "    <tr style=\"text-align: right;\">\n",
       "      <th></th>\n",
       "      <th>coef</th>\n",
       "      <th>positive</th>\n",
       "    </tr>\n",
       "  </thead>\n",
       "  <tbody>\n",
       "    <tr>\n",
       "      <th>cylinders</th>\n",
       "      <td>-0.013111</td>\n",
       "      <td>False</td>\n",
       "    </tr>\n",
       "    <tr>\n",
       "      <th>weight</th>\n",
       "      <td>-0.007101</td>\n",
       "      <td>False</td>\n",
       "    </tr>\n",
       "    <tr>\n",
       "      <th>horsepower</th>\n",
       "      <td>-0.005576</td>\n",
       "      <td>False</td>\n",
       "    </tr>\n",
       "    <tr>\n",
       "      <th>displacement</th>\n",
       "      <td>0.014282</td>\n",
       "      <td>True</td>\n",
       "    </tr>\n",
       "    <tr>\n",
       "      <th>acceleration</th>\n",
       "      <td>0.218707</td>\n",
       "      <td>True</td>\n",
       "    </tr>\n",
       "    <tr>\n",
       "      <th>year</th>\n",
       "      <td>0.783798</td>\n",
       "      <td>True</td>\n",
       "    </tr>\n",
       "    <tr>\n",
       "      <th>origin</th>\n",
       "      <td>1.171878</td>\n",
       "      <td>True</td>\n",
       "    </tr>\n",
       "  </tbody>\n",
       "</table>\n",
       "</div>"
      ],
      "text/plain": [
       "                  coef  positive\n",
       "cylinders    -0.013111     False\n",
       "weight       -0.007101     False\n",
       "horsepower   -0.005576     False\n",
       "displacement  0.014282      True\n",
       "acceleration  0.218707      True\n",
       "year          0.783798      True\n",
       "origin        1.171878      True"
      ]
     },
     "metadata": {},
     "output_type": "display_data"
    },
    {
     "name": "stdout",
     "output_type": "stream",
     "text": [
      "Intercept = -22.2527951291034\n"
     ]
    },
    {
     "data": {
      "image/png": "[encoded data removed]",
      "text/plain": [
       "<Figure size 432x288 with 1 Axes>"
      ]
     },
     "metadata": {
      "needs_background": "light"
     },
     "output_type": "display_data"
    }
   ],
   "source": [
    "en_regressor = linear_model.ElasticNet(\n",
    "    alpha=0.1,\n",
    "    l1_ratio=0.1\n",
    ")\n",
    "\n",
    "en_regressor.fit(\n",
    "    x_train,\n",
    "    y_train\n",
    ")\n",
    "\n",
    "en_pred = en_regressor.predict(x_test)\n",
    "\n",
    "score = np.sqrt(sklearn.metrics.mean_squared_error(\n",
    "    en_pred,\n",
    "    y_test\n",
    "))\n",
    "print(f\"Score (RMSE) = {score}\")\n",
    "\n",
    "report_coef(\n",
    "    x_cols,\n",
    "    en_regressor.coef_,\n",
    "    en_regressor.intercept_\n",
    ")"
   ]
  }
 ],
 "metadata": {
  "kernelspec": {
   "display_name": "Python 3",
   "language": "python",
   "name": "python3"
  },
  "language_info": {
   "codemirror_mode": {
    "name": "ipython",
    "version": 3
   },
   "file_extension": ".py",
   "mimetype": "text/x-python",
   "name": "python",
   "nbconvert_exporter": "python",
   "pygments_lexer": "ipython3",
   "version": "3.8.5"
  }
 },
 "nbformat": 4,
 "nbformat_minor": 4
}
